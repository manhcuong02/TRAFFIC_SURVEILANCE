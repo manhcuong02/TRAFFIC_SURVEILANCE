{
 "cells": [
  {
   "cell_type": "code",
   "execution_count": 1,
   "metadata": {},
   "outputs": [],
   "source": [
    "import torch\n",
    "import os\n",
    "import numpy as np"
   ]
  },
  {
   "cell_type": "code",
   "execution_count": 2,
   "metadata": {},
   "outputs": [
    {
     "data": {
      "text/plain": [
       "True"
      ]
     },
     "execution_count": 2,
     "metadata": {},
     "output_type": "execute_result"
    }
   ],
   "source": [
    "torch.cuda.is_available()"
   ]
  },
  {
   "cell_type": "code",
   "execution_count": 3,
   "metadata": {},
   "outputs": [
    {
     "data": {
      "text/plain": [
       "'NVIDIA GeForce RTX 2080'"
      ]
     },
     "execution_count": 3,
     "metadata": {},
     "output_type": "execute_result"
    }
   ],
   "source": [
    "torch.cuda.get_device_name()"
   ]
  },
  {
   "cell_type": "code",
   "execution_count": 4,
   "metadata": {},
   "outputs": [
    {
     "data": {
      "text/plain": [
       "device(type='cuda')"
      ]
     },
     "execution_count": 4,
     "metadata": {},
     "output_type": "execute_result"
    }
   ],
   "source": [
    "torch.device('cuda')"
   ]
  },
  {
   "cell_type": "code",
   "execution_count": 11,
   "metadata": {},
   "outputs": [
    {
     "name": "stderr",
     "output_type": "stream",
     "text": [
      "/tmp/ipykernel_13114/3255483398.py:1: UserWarning: To copy construct from a tensor, it is recommended to use sourceTensor.clone().detach() or sourceTensor.clone().detach().requires_grad_(True), rather than torch.tensor(sourceTensor).\n",
      "  torch.tensor(torch.tensor([1,2,3,4]))\n"
     ]
    },
    {
     "data": {
      "text/plain": [
       "tensor([1, 2, 3, 4])"
      ]
     },
     "execution_count": 11,
     "metadata": {},
     "output_type": "execute_result"
    }
   ],
   "source": [
    "torch.tensor(torch.tensor([1,2,3,4]))"
   ]
  },
  {
   "cell_type": "markdown",
   "metadata": {},
   "source": []
  },
  {
   "cell_type": "code",
   "execution_count": 69,
   "metadata": {},
   "outputs": [],
   "source": [
    "a = [1,2,3,4,5,6,2,2,7,8,9,10,11, 1,2,2, 3]\n",
    "\n",
    "for i in a:\n",
    "    if i == 2:\n",
    "        a.remove(i)\n",
    "        "
   ]
  },
  {
   "cell_type": "code",
   "execution_count": 70,
   "metadata": {},
   "outputs": [
    {
     "data": {
      "text/plain": [
       "[1, 3, 4, 5, 6, 7, 8, 9, 10, 11, 1, 2, 2, 3]"
      ]
     },
     "execution_count": 70,
     "metadata": {},
     "output_type": "execute_result"
    }
   ],
   "source": [
    "a"
   ]
  },
  {
   "cell_type": "code",
   "execution_count": 72,
   "metadata": {},
   "outputs": [
    {
     "name": "stdout",
     "output_type": "stream",
     "text": [
      "[{'vel': 1}, {'vel': -2}, {'vel': 3}, {'vel': -2}, {'vel': 5}]\n"
     ]
    }
   ],
   "source": []
  },
  {
   "cell_type": "code",
   "execution_count": 2,
   "metadata": {},
   "outputs": [],
   "source": [
    "import json \n",
    "with open('data1.json') as f:\n",
    "    data = json.load(f)\n"
   ]
  },
  {
   "cell_type": "code",
   "execution_count": 3,
   "metadata": {},
   "outputs": [
    {
     "data": {
      "text/plain": [
       "[{'id': 1, 'xywh': [235, 585, 108, 110], 'distance_moved': 0, 'vel': -1},\n",
       " {'id': 2, 'xywh': [5, 592, 121, 123], 'distance_moved': 0, 'vel': -1},\n",
       " {'id': 3, 'xywh': [126, 449, 129, 177], 'distance_moved': 0, 'vel': -1},\n",
       " {'id': 4, 'xywh': [167, 631, 207, 318], 'distance_moved': 0, 'vel': -1},\n",
       " {'id': 5, 'xywh': [246, 673, 68, 111], 'distance_moved': 0, 'vel': -1},\n",
       " {'id': 6, 'xywh': [94, 635, 44, 85], 'distance_moved': 0, 'vel': -1},\n",
       " {'id': 7, 'xywh': [60, 592, 44, 71], 'distance_moved': 0, 'vel': -1},\n",
       " {'id': 8, 'xywh': [23, 492, 59, 52], 'distance_moved': 0, 'vel': -1},\n",
       " {'id': 9, 'xywh': [190, 266, 56, 82], 'distance_moved': 0, 'vel': -1},\n",
       " {'id': 10, 'xywh': [159, 111, 32, 42], 'distance_moved': 0, 'vel': -1},\n",
       " {'id': 11, 'xywh': [85, 51, 32, 29], 'distance_moved': 0, 'vel': -1}]"
      ]
     },
     "execution_count": 3,
     "metadata": {},
     "output_type": "execute_result"
    }
   ],
   "source": [
    "data"
   ]
  },
  {
   "cell_type": "code",
   "execution_count": 4,
   "metadata": {},
   "outputs": [
    {
     "data": {
      "text/plain": [
       "[{'id': 3, 'xywh': [126, 449, 129, 177], 'distance_moved': 0, 'vel': -1},\n",
       " {'id': 8, 'xywh': [23, 492, 59, 52], 'distance_moved': 0, 'vel': -1},\n",
       " {'id': 9, 'xywh': [190, 266, 56, 82], 'distance_moved': 0, 'vel': -1},\n",
       " {'id': 10, 'xywh': [159, 111, 32, 42], 'distance_moved': 0, 'vel': -1},\n",
       " {'id': 11, 'xywh': [85, 51, 32, 29], 'distance_moved': 0, 'vel': -1}]"
      ]
     },
     "execution_count": 4,
     "metadata": {},
     "output_type": "execute_result"
    }
   ],
   "source": [
    "from main import remove_vehicle_info\n",
    "from _utils import *\n",
    "from constant import *\n",
    "line_vertices = read_points(LINE_PATH)\n",
    "remove_vehicle_info(data, line_vertices)"
   ]
  },
  {
   "cell_type": "code",
   "execution_count": 6,
   "metadata": {},
   "outputs": [
    {
     "data": {
      "text/plain": [
       "<matplotlib.image.AxesImage at 0x1a2c36fe0d0>"
      ]
     },
     "execution_count": 6,
     "metadata": {},
     "output_type": "execute_result"
    }
   ],
   "source": [
    "import matplotlib.pyplot as plt \n",
    "import cv2 as cv\n",
    "frame = cv.imread('data/images/road_test.jpg')\n",
    "frame = cv.resize(frame, IMG_SIZE)\n",
    "\n",
    "frame = draw_roi_and_lines(frame, None, line_vertices)  \n",
    "\n",
    "plt.imshow(frame)\n"
   ]
  },
  {
   "cell_type": "code",
   "execution_count": 12,
   "metadata": {},
   "outputs": [],
   "source": [
    "import matplotlib.pyplot as plt \n",
    "import cv2 as cv\n",
    "frame = cv.imread('data/images/road_test.jpg')\n",
    "frame = cv.resize(frame, IMG_SIZE)\n",
    "\n",
    "plt.figure(figsize = (10,5))\n",
    "plt.imshow(frame)\n",
    "plt.show()\n"
   ]
  },
  {
   "cell_type": "code",
   "execution_count": null,
   "metadata": {},
   "outputs": [],
   "source": []
  }
 ],
 "metadata": {
  "interpreter": {
   "hash": "5a556ae5b2f2ff7f789be7a29df50f4d5888c348c257895d8ab5dd1711a9a492"
  },
  "kernelspec": {
   "display_name": "Python 3.8.16 64-bit ('venv': venv)",
   "name": "python3"
  },
  "language_info": {
   "codemirror_mode": {
    "name": "ipython",
    "version": 3
   },
   "file_extension": ".py",
   "mimetype": "text/x-python",
   "name": "python",
   "nbconvert_exporter": "python",
   "pygments_lexer": "ipython3",
   "version": "3.8.10"
  },
  "orig_nbformat": 4
 },
 "nbformat": 4,
 "nbformat_minor": 2
}
